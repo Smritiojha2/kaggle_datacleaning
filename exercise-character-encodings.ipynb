{
 "cells": [
  {
   "cell_type": "markdown",
   "id": "943659ef",
   "metadata": {
    "papermill": {
     "duration": 0.017602,
     "end_time": "2022-03-28T07:18:34.038426",
     "exception": false,
     "start_time": "2022-03-28T07:18:34.020824",
     "status": "completed"
    },
    "tags": []
   },
   "source": [
    "**This notebook is an exercise in the [Data Cleaning](https://www.kaggle.com/learn/data-cleaning) course.  You can reference the tutorial at [this link](https://www.kaggle.com/alexisbcook/character-encodings).**\n",
    "\n",
    "---\n"
   ]
  },
  {
   "cell_type": "markdown",
   "id": "487c68c5",
   "metadata": {
    "papermill": {
     "duration": 0.016198,
     "end_time": "2022-03-28T07:18:34.071864",
     "exception": false,
     "start_time": "2022-03-28T07:18:34.055666",
     "status": "completed"
    },
    "tags": []
   },
   "source": [
    "In this exercise, you'll apply what you learned in the **Character encodings** tutorial.\n",
    "\n",
    "# Setup\n",
    "\n",
    "The questions below will give you feedback on your work. Run the following cell to set up the feedback system."
   ]
  },
  {
   "cell_type": "code",
   "execution_count": 1,
   "id": "55bb3017",
   "metadata": {
    "execution": {
     "iopub.execute_input": "2022-03-28T07:18:34.116614Z",
     "iopub.status.busy": "2022-03-28T07:18:34.115848Z",
     "iopub.status.idle": "2022-03-28T07:18:34.186974Z",
     "shell.execute_reply": "2022-03-28T07:18:34.186196Z",
     "shell.execute_reply.started": "2022-03-28T07:07:53.406816Z"
    },
    "papermill": {
     "duration": 0.098794,
     "end_time": "2022-03-28T07:18:34.187144",
     "exception": false,
     "start_time": "2022-03-28T07:18:34.088350",
     "status": "completed"
    },
    "tags": []
   },
   "outputs": [
    {
     "name": "stdout",
     "output_type": "stream",
     "text": [
      "Setup Complete\n"
     ]
    }
   ],
   "source": [
    "from learntools.core import binder\n",
    "binder.bind(globals())\n",
    "from learntools.data_cleaning.ex4 import *\n",
    "print(\"Setup Complete\")"
   ]
  },
  {
   "cell_type": "markdown",
   "id": "7ad0c887",
   "metadata": {
    "papermill": {
     "duration": 0.016738,
     "end_time": "2022-03-28T07:18:34.221762",
     "exception": false,
     "start_time": "2022-03-28T07:18:34.205024",
     "status": "completed"
    },
    "tags": []
   },
   "source": [
    "# Get our environment set up\n",
    "\n",
    "The first thing we'll need to do is load in the libraries we'll be using."
   ]
  },
  {
   "cell_type": "code",
   "execution_count": 2,
   "id": "a6665f2f",
   "metadata": {
    "execution": {
     "iopub.execute_input": "2022-03-28T07:18:34.261490Z",
     "iopub.status.busy": "2022-03-28T07:18:34.260823Z",
     "iopub.status.idle": "2022-03-28T07:18:34.263235Z",
     "shell.execute_reply": "2022-03-28T07:18:34.262644Z",
     "shell.execute_reply.started": "2022-03-28T07:07:56.301945Z"
    },
    "papermill": {
     "duration": 0.024223,
     "end_time": "2022-03-28T07:18:34.263384",
     "exception": false,
     "start_time": "2022-03-28T07:18:34.239161",
     "status": "completed"
    },
    "tags": []
   },
   "outputs": [],
   "source": [
    "# modules we'll use\n",
    "import pandas as pd\n",
    "import numpy as np\n",
    "\n",
    "# helpful character encoding module\n",
    "import chardet\n",
    "\n",
    "# set seed for reproducibility\n",
    "np.random.seed(0)"
   ]
  },
  {
   "cell_type": "markdown",
   "id": "8a6414c7",
   "metadata": {
    "papermill": {
     "duration": 0.017119,
     "end_time": "2022-03-28T07:18:34.297711",
     "exception": false,
     "start_time": "2022-03-28T07:18:34.280592",
     "status": "completed"
    },
    "tags": []
   },
   "source": [
    "# 1) What are encodings?\n",
    "\n",
    "You're working with a dataset composed of bytes.  Run the code cell below to print a sample entry."
   ]
  },
  {
   "cell_type": "code",
   "execution_count": 3,
   "id": "bd55fa27",
   "metadata": {
    "execution": {
     "iopub.execute_input": "2022-03-28T07:18:34.336873Z",
     "iopub.status.busy": "2022-03-28T07:18:34.336155Z",
     "iopub.status.idle": "2022-03-28T07:18:34.339903Z",
     "shell.execute_reply": "2022-03-28T07:18:34.340402Z",
     "shell.execute_reply.started": "2022-03-28T07:07:59.457956Z"
    },
    "papermill": {
     "duration": 0.025509,
     "end_time": "2022-03-28T07:18:34.340564",
     "exception": false,
     "start_time": "2022-03-28T07:18:34.315055",
     "status": "completed"
    },
    "tags": []
   },
   "outputs": [
    {
     "name": "stdout",
     "output_type": "stream",
     "text": [
      "b'\\xa7A\\xa6n'\n",
      "data type: <class 'bytes'>\n"
     ]
    }
   ],
   "source": [
    "sample_entry = b'\\xa7A\\xa6n'\n",
    "print(sample_entry)\n",
    "print('data type:', type(sample_entry))"
   ]
  },
  {
   "cell_type": "markdown",
   "id": "e6137bbd",
   "metadata": {
    "papermill": {
     "duration": 0.017582,
     "end_time": "2022-03-28T07:18:34.376254",
     "exception": false,
     "start_time": "2022-03-28T07:18:34.358672",
     "status": "completed"
    },
    "tags": []
   },
   "source": [
    "You notice that it doesn't use the standard UTF-8 encoding. \n",
    "\n",
    "Use the next code cell to create a variable `new_entry` that changes the encoding from `\"big5-tw\"` to `\"utf-8\"`.  `new_entry` should have the bytes datatype."
   ]
  },
  {
   "cell_type": "code",
   "execution_count": 4,
   "id": "35e70034",
   "metadata": {
    "execution": {
     "iopub.execute_input": "2022-03-28T07:18:34.419696Z",
     "iopub.status.busy": "2022-03-28T07:18:34.418850Z",
     "iopub.status.idle": "2022-03-28T07:18:34.426839Z",
     "shell.execute_reply": "2022-03-28T07:18:34.426046Z",
     "shell.execute_reply.started": "2022-03-28T07:08:46.447611Z"
    },
    "papermill": {
     "duration": 0.033225,
     "end_time": "2022-03-28T07:18:34.427048",
     "exception": false,
     "start_time": "2022-03-28T07:18:34.393823",
     "status": "completed"
    },
    "tags": []
   },
   "outputs": [
    {
     "data": {
      "application/javascript": [
       "parent.postMessage({\"jupyterEvent\": \"custom.exercise_interaction\", \"data\": {\"outcomeType\": 1, \"valueTowardsCompletion\": 0.3333333333333333, \"interactionType\": 1, \"questionType\": 1, \"questionId\": \"1_EncodingsIntro\", \"learnToolsVersion\": \"0.3.4\", \"failureMessage\": \"\", \"exceptionClass\": \"\", \"trace\": \"\"}}, \"*\")"
      ],
      "text/plain": [
       "<IPython.core.display.Javascript object>"
      ]
     },
     "metadata": {},
     "output_type": "display_data"
    },
    {
     "data": {
      "text/markdown": [
       "<span style=\"color:#33cc33\">Correct</span>"
      ],
      "text/plain": [
       "Correct"
      ]
     },
     "metadata": {},
     "output_type": "display_data"
    }
   ],
   "source": [
    "before = sample_entry.decode(\"big5-tw\")\n",
    "new_entry = before.encode(\"utf-8\")\n",
    "# Check your answer\n",
    "q1.check()"
   ]
  },
  {
   "cell_type": "code",
   "execution_count": 5,
   "id": "92e95f9e",
   "metadata": {
    "execution": {
     "iopub.execute_input": "2022-03-28T07:18:34.480031Z",
     "iopub.status.busy": "2022-03-28T07:18:34.477815Z",
     "iopub.status.idle": "2022-03-28T07:18:34.491618Z",
     "shell.execute_reply": "2022-03-28T07:18:34.492152Z",
     "shell.execute_reply.started": "2022-03-28T07:08:02.770722Z"
    },
    "papermill": {
     "duration": 0.042029,
     "end_time": "2022-03-28T07:18:34.492362",
     "exception": false,
     "start_time": "2022-03-28T07:18:34.450333",
     "status": "completed"
    },
    "tags": []
   },
   "outputs": [
    {
     "data": {
      "application/javascript": [
       "parent.postMessage({\"jupyterEvent\": \"custom.exercise_interaction\", \"data\": {\"interactionType\": 2, \"questionType\": 1, \"questionId\": \"1_EncodingsIntro\", \"learnToolsVersion\": \"0.3.4\", \"valueTowardsCompletion\": 0.0, \"failureMessage\": \"\", \"exceptionClass\": \"\", \"trace\": \"\", \"outcomeType\": 4}}, \"*\")"
      ],
      "text/plain": [
       "<IPython.core.display.Javascript object>"
      ]
     },
     "metadata": {},
     "output_type": "display_data"
    },
    {
     "data": {
      "text/markdown": [
       "<span style=\"color:#3366cc\">Hint:</span> Try using `.decode()` to get the string, then `.encode()` to get the bytes representation, encoded in UTF-8."
      ],
      "text/plain": [
       "Hint: Try using `.decode()` to get the string, then `.encode()` to get the bytes representation, encoded in UTF-8."
      ]
     },
     "metadata": {},
     "output_type": "display_data"
    },
    {
     "data": {
      "application/javascript": [
       "parent.postMessage({\"jupyterEvent\": \"custom.exercise_interaction\", \"data\": {\"interactionType\": 3, \"questionType\": 1, \"questionId\": \"1_EncodingsIntro\", \"learnToolsVersion\": \"0.3.4\", \"valueTowardsCompletion\": 0.0, \"failureMessage\": \"\", \"exceptionClass\": \"\", \"trace\": \"\", \"outcomeType\": 4}}, \"*\")"
      ],
      "text/plain": [
       "<IPython.core.display.Javascript object>"
      ]
     },
     "metadata": {},
     "output_type": "display_data"
    },
    {
     "data": {
      "text/markdown": [
       "<span style=\"color:#33cc99\">Solution:</span> \n",
       "```python\n",
       "before = sample_entry.decode(\"big5-tw\")\n",
       "new_entry = before.encode()\n",
       "\n",
       "```"
      ],
      "text/plain": [
       "Solution: \n",
       "```python\n",
       "before = sample_entry.decode(\"big5-tw\")\n",
       "new_entry = before.encode()\n",
       "\n",
       "```"
      ]
     },
     "metadata": {},
     "output_type": "display_data"
    }
   ],
   "source": [
    "# Lines below will give you a hint or solution code\n",
    "q1.hint()\n",
    "q1.solution()"
   ]
  },
  {
   "cell_type": "markdown",
   "id": "f2d4924b",
   "metadata": {
    "papermill": {
     "duration": 0.025442,
     "end_time": "2022-03-28T07:18:34.546586",
     "exception": false,
     "start_time": "2022-03-28T07:18:34.521144",
     "status": "completed"
    },
    "tags": []
   },
   "source": [
    "# 2) Reading in files with encoding problems\n",
    "\n",
    "Use the code cell below to read in this file at path `\"../input/fatal-police-shootings-in-the-us/PoliceKillingsUS.csv\"`.  \n",
    "\n",
    "Figure out what the correct encoding should be and read in the file to a DataFrame `police_killings`."
   ]
  },
  {
   "cell_type": "code",
   "execution_count": 6,
   "id": "55700e6b",
   "metadata": {
    "execution": {
     "iopub.execute_input": "2022-03-28T07:18:34.595220Z",
     "iopub.status.busy": "2022-03-28T07:18:34.594538Z",
     "iopub.status.idle": "2022-03-28T07:18:37.768596Z",
     "shell.execute_reply": "2022-03-28T07:18:37.769162Z",
     "shell.execute_reply.started": "2022-03-28T07:15:51.643368Z"
    },
    "papermill": {
     "duration": 3.200915,
     "end_time": "2022-03-28T07:18:37.769366",
     "exception": false,
     "start_time": "2022-03-28T07:18:34.568451",
     "status": "completed"
    },
    "tags": []
   },
   "outputs": [
    {
     "name": "stdout",
     "output_type": "stream",
     "text": [
      "{'encoding': 'Windows-1252', 'confidence': 0.73, 'language': ''}\n"
     ]
    },
    {
     "data": {
      "application/javascript": [
       "parent.postMessage({\"jupyterEvent\": \"custom.exercise_interaction\", \"data\": {\"outcomeType\": 1, \"valueTowardsCompletion\": 0.3333333333333333, \"interactionType\": 1, \"questionType\": 1, \"questionId\": \"2_ReadIn\", \"learnToolsVersion\": \"0.3.4\", \"failureMessage\": \"\", \"exceptionClass\": \"\", \"trace\": \"\"}}, \"*\")"
      ],
      "text/plain": [
       "<IPython.core.display.Javascript object>"
      ]
     },
     "metadata": {},
     "output_type": "display_data"
    },
    {
     "data": {
      "text/markdown": [
       "<span style=\"color:#33cc33\">Correct</span>"
      ],
      "text/plain": [
       "Correct"
      ]
     },
     "metadata": {},
     "output_type": "display_data"
    }
   ],
   "source": [
    "# TODO: Load in the DataFrame correctly.\n",
    "with open(\"../input/fatal-police-shootings-in-the-us/PoliceKillingsUS.csv\", 'rb') as rawdata:\n",
    "    result = chardet.detect(rawdata.read(1000000))\n",
    "print(result)\n",
    "police_killings = pd.read_csv(\"../input/fatal-police-shootings-in-the-us/PoliceKillingsUS.csv\", encoding='Windows-1252')\n",
    "# Check your answer\n",
    "q2.check()"
   ]
  },
  {
   "cell_type": "markdown",
   "id": "d68bea9c",
   "metadata": {
    "papermill": {
     "duration": 0.02309,
     "end_time": "2022-03-28T07:18:37.815403",
     "exception": false,
     "start_time": "2022-03-28T07:18:37.792313",
     "status": "completed"
    },
    "tags": []
   },
   "source": [
    "Feel free to use any additional code cells for supplemental work.  To get credit for finishing this question, you'll need to run `q2.check()` and get a result of **Correct**."
   ]
  },
  {
   "cell_type": "code",
   "execution_count": 7,
   "id": "77aee595",
   "metadata": {
    "execution": {
     "iopub.execute_input": "2022-03-28T07:18:37.866682Z",
     "iopub.status.busy": "2022-03-28T07:18:37.865664Z",
     "iopub.status.idle": "2022-03-28T07:18:37.867944Z",
     "shell.execute_reply": "2022-03-28T07:18:37.868452Z"
    },
    "papermill": {
     "duration": 0.030169,
     "end_time": "2022-03-28T07:18:37.868628",
     "exception": false,
     "start_time": "2022-03-28T07:18:37.838459",
     "status": "completed"
    },
    "tags": []
   },
   "outputs": [],
   "source": [
    "# (Optional) Use this code cell for any additional work."
   ]
  },
  {
   "cell_type": "code",
   "execution_count": 8,
   "id": "5d49eaf7",
   "metadata": {
    "execution": {
     "iopub.execute_input": "2022-03-28T07:18:37.918541Z",
     "iopub.status.busy": "2022-03-28T07:18:37.917583Z",
     "iopub.status.idle": "2022-03-28T07:18:37.924512Z",
     "shell.execute_reply": "2022-03-28T07:18:37.924982Z",
     "shell.execute_reply.started": "2022-03-28T07:15:27.943501Z"
    },
    "papermill": {
     "duration": 0.033473,
     "end_time": "2022-03-28T07:18:37.925149",
     "exception": false,
     "start_time": "2022-03-28T07:18:37.891676",
     "status": "completed"
    },
    "tags": []
   },
   "outputs": [
    {
     "data": {
      "application/javascript": [
       "parent.postMessage({\"jupyterEvent\": \"custom.exercise_interaction\", \"data\": {\"interactionType\": 2, \"questionType\": 1, \"questionId\": \"2_ReadIn\", \"learnToolsVersion\": \"0.3.4\", \"valueTowardsCompletion\": 0.0, \"failureMessage\": \"\", \"exceptionClass\": \"\", \"trace\": \"\", \"outcomeType\": 4}}, \"*\")"
      ],
      "text/plain": [
       "<IPython.core.display.Javascript object>"
      ]
     },
     "metadata": {},
     "output_type": "display_data"
    },
    {
     "data": {
      "text/markdown": [
       "<span style=\"color:#3366cc\">Hint:</span> If you try to guess the encoding with the first 10,000 bytes of the file, it might give you the wrong answer.  Try using 100,000 or more lines of the file."
      ],
      "text/plain": [
       "Hint: If you try to guess the encoding with the first 10,000 bytes of the file, it might give you the wrong answer.  Try using 100,000 or more lines of the file."
      ]
     },
     "metadata": {},
     "output_type": "display_data"
    }
   ],
   "source": [
    "# Lines below will give you a hint or solution code\n",
    "q2.hint()\n",
    "#q2.solution()"
   ]
  },
  {
   "cell_type": "markdown",
   "id": "1df8855a",
   "metadata": {
    "papermill": {
     "duration": 0.02366,
     "end_time": "2022-03-28T07:18:37.972805",
     "exception": false,
     "start_time": "2022-03-28T07:18:37.949145",
     "status": "completed"
    },
    "tags": []
   },
   "source": [
    "# 3) Saving your files with UTF-8 encoding\n",
    "\n",
    "Save a version of the police killings dataset to CSV with UTF-8 encoding.  Your answer will be marked correct after saving this file.  \n",
    "\n",
    "Note: When using the `to_csv()` method, supply only the name of the file (e.g., `\"my_file.csv\"`).  This saves the file at the filepath `\"/kaggle/working/my_file.csv\"`."
   ]
  },
  {
   "cell_type": "code",
   "execution_count": 9,
   "id": "ce8b6c89",
   "metadata": {
    "execution": {
     "iopub.execute_input": "2022-03-28T07:18:38.025262Z",
     "iopub.status.busy": "2022-03-28T07:18:38.024254Z",
     "iopub.status.idle": "2022-03-28T07:18:38.063968Z",
     "shell.execute_reply": "2022-03-28T07:18:38.064480Z",
     "shell.execute_reply.started": "2022-03-28T07:17:56.787390Z"
    },
    "papermill": {
     "duration": 0.067614,
     "end_time": "2022-03-28T07:18:38.064657",
     "exception": false,
     "start_time": "2022-03-28T07:18:37.997043",
     "status": "completed"
    },
    "tags": []
   },
   "outputs": [
    {
     "data": {
      "application/javascript": [
       "parent.postMessage({\"jupyterEvent\": \"custom.exercise_interaction\", \"data\": {\"outcomeType\": 1, \"valueTowardsCompletion\": 0.3333333333333333, \"interactionType\": 1, \"questionType\": 2, \"questionId\": \"3_SaveCSV\", \"learnToolsVersion\": \"0.3.4\", \"failureMessage\": \"\", \"exceptionClass\": \"\", \"trace\": \"\"}}, \"*\")"
      ],
      "text/plain": [
       "<IPython.core.display.Javascript object>"
      ]
     },
     "metadata": {},
     "output_type": "display_data"
    },
    {
     "data": {
      "text/markdown": [
       "<span style=\"color:#33cc33\">Correct</span>"
      ],
      "text/plain": [
       "Correct"
      ]
     },
     "metadata": {},
     "output_type": "display_data"
    }
   ],
   "source": [
    "# TODO: Save the police killings dataset to CSV\n",
    "police_killings.to_csv(\"police_killings-utf8.csv\")\n",
    "\n",
    "# Check your answer\n",
    "q3.check()"
   ]
  },
  {
   "cell_type": "code",
   "execution_count": 10,
   "id": "a634d6ac",
   "metadata": {
    "execution": {
     "iopub.execute_input": "2022-03-28T07:18:38.119959Z",
     "iopub.status.busy": "2022-03-28T07:18:38.119330Z",
     "iopub.status.idle": "2022-03-28T07:18:38.122011Z",
     "shell.execute_reply": "2022-03-28T07:18:38.121464Z"
    },
    "papermill": {
     "duration": 0.031796,
     "end_time": "2022-03-28T07:18:38.122151",
     "exception": false,
     "start_time": "2022-03-28T07:18:38.090355",
     "status": "completed"
    },
    "tags": []
   },
   "outputs": [],
   "source": [
    "# Lines below will give you a hint or solution code\n",
    "#q3.hint()\n",
    "#q3.solution()"
   ]
  },
  {
   "cell_type": "markdown",
   "id": "6d977aab",
   "metadata": {
    "papermill": {
     "duration": 0.026674,
     "end_time": "2022-03-28T07:18:38.174555",
     "exception": false,
     "start_time": "2022-03-28T07:18:38.147881",
     "status": "completed"
    },
    "tags": []
   },
   "source": [
    "# (Optional) More practice\n",
    "\n",
    "Check out [this dataset of files in different character encodings](https://www.kaggle.com/rtatman/character-encoding-examples). Can you read in all the files with their original encodings and them save them out as UTF-8 files?\n",
    "\n",
    "If you have a file that's in UTF-8 but has just a couple of weird-looking characters in it, you can try out the [ftfy module](https://ftfy.readthedocs.io/en/latest/#) and see if it helps. \n",
    "\n",
    "# Keep going\n",
    "\n",
    "In the final lesson, learn how to [**clean up inconsistent text entries**](https://www.kaggle.com/alexisbcook/inconsistent-data-entry) in your dataset."
   ]
  },
  {
   "cell_type": "markdown",
   "id": "cffaa958",
   "metadata": {
    "papermill": {
     "duration": 0.025139,
     "end_time": "2022-03-28T07:18:38.225464",
     "exception": false,
     "start_time": "2022-03-28T07:18:38.200325",
     "status": "completed"
    },
    "tags": []
   },
   "source": [
    "---\n",
    "\n",
    "\n",
    "\n",
    "\n",
    "*Have questions or comments? Visit the [course discussion forum](https://www.kaggle.com/learn/data-cleaning/discussion) to chat with other learners.*"
   ]
  }
 ],
 "metadata": {
  "kernelspec": {
   "display_name": "Python 3",
   "language": "python",
   "name": "python3"
  },
  "language_info": {
   "codemirror_mode": {
    "name": "ipython",
    "version": 3
   },
   "file_extension": ".py",
   "mimetype": "text/x-python",
   "name": "python",
   "nbconvert_exporter": "python",
   "pygments_lexer": "ipython3",
   "version": "3.7.12"
  },
  "papermill": {
   "default_parameters": {},
   "duration": 14.037351,
   "end_time": "2022-03-28T07:18:38.862312",
   "environment_variables": {},
   "exception": null,
   "input_path": "__notebook__.ipynb",
   "output_path": "__notebook__.ipynb",
   "parameters": {},
   "start_time": "2022-03-28T07:18:24.824961",
   "version": "2.3.3"
  }
 },
 "nbformat": 4,
 "nbformat_minor": 5
}
